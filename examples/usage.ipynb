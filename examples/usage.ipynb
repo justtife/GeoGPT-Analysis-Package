{
 "cells": [
  {
   "cell_type": "markdown",
   "metadata": {},
   "source": [
    "# **GeoGPT Package Usage**\n",
    "\n",
    "Welcome to the GeoGPT Usage Notebook! This notebook provides a comprehensive guide on how to leverage the full power of the **GeoGPT** geospatial toolset. This package offers an extensive suite of tools for geospatial analysis, hydrology, spatial processing, and more, available through a user-friendly API.\n"
   ]
  },
  {
   "cell_type": "markdown",
   "metadata": {},
   "source": [
    "### **Initializing the Package**\n",
    "---\n",
    "To begin using the package, proper initialization is required. The initialization process involves providing two key parameters:\n",
    "\n",
    "- API Key: This is required to unlock the full range of geospatial tools offered by GeoGPT. By default, when an API key is provided, you will have access to all available tools. However, if no API key is provided, you will be granted access only to a limited set of tools (free tools).\n",
    "\n",
    "- Working Directory: You may optionally specify a working directory where GeoGPT will store or process data. If not provided, GeoGPT will use the current working directory as the default."
   ]
  },
  {
   "cell_type": "markdown",
   "metadata": {},
   "source": [
    "Steps to Initialize the Package:\n",
    "\n",
    "1. The easiest way to get started is by passing both the API Key and the working directory directly into the initialization code. If the working directory is not provided, GeoGPT will use the current directory."
   ]
  },
  {
   "cell_type": "code",
   "execution_count": null,
   "metadata": {
    "vscode": {
     "languageId": "plaintext"
    }
   },
   "outputs": [],
   "source": [
    "from geogpt import Initialize\n",
    "\n",
    "api = Initialize(apiKey='your-api-key', wDir='/path/to/working/directory')"
   ]
  },
  {
   "cell_type": "markdown",
   "metadata": {},
   "source": [
    "2. Use an Environment File (Recommended)\n",
    "\n",
    "For better security and to avoid hardcoding sensitive information, it is recommended to store your API key in an environment file. This method keeps your API key safe and prevents accidental exposure.\n",
    "Create a .env file in the root directory of your project. In the file, add the following line:\n",
    "\n",
    "```bash\n",
    "GEOGPT_API_KEY=your-api-key\n",
    "```\n"
   ]
  },
  {
   "cell_type": "code",
   "execution_count": null,
   "metadata": {
    "vscode": {
     "languageId": "plaintext"
    }
   },
   "outputs": [],
   "source": [
    "from geogpt import Initialize\n",
    "\n",
    "api = Initialize()"
   ]
  },
  {
   "cell_type": "markdown",
   "metadata": {},
   "source": [
    "## **Package Toolset**\n"
   ]
  },
  {
   "cell_type": "markdown",
   "metadata": {},
   "source": [
    "### **Spatial Analysis Toolset**\n",
    "---\n",
    "The Spatial Analysis Toolset is a collection of tools designed for performing a wide range of geospatial analyses, often used in disciplines like hydrology, geography, urban planning, and environmental science. These tools allow users to process, analyze, and visualize geospatial data, facilitating informed decision-making based on geographical and environmental information.\n"
   ]
  },
  {
   "cell_type": "code",
   "execution_count": null,
   "metadata": {
    "vscode": {
     "languageId": "plaintext"
    }
   },
   "outputs": [],
   "source": []
  },
  {
   "cell_type": "markdown",
   "metadata": {},
   "source": [
    "### **Statistical Analysis Toolset**\n",
    "---\n",
    "The Statistical Toolset is a collection of tools that allows users to perform a wide range of statistical analyses on geospatial data. Whether you're working with raster data, vector data, or spatially referenced datasets, these tools enable you to derive meaningful insights through descriptive statistics, regression analysis, spatial autocorrelation, and more. The toolset is designed to enhance the analytical capabilities of geospatial projects, helping users interpret patterns and relationships within the data.\n",
    "By using the Statistical Toolset, you can make data-driven decisions, detect trends, and model relationships, all of which are crucial for applications in urban planning, environmental science, and resource management."
   ]
  },
  {
   "cell_type": "code",
   "execution_count": null,
   "metadata": {
    "vscode": {
     "languageId": "plaintext"
    }
   },
   "outputs": [],
   "source": []
  },
  {
   "cell_type": "markdown",
   "metadata": {},
   "source": [
    "### **Artificial Intelligence Toolset**\n",
    "---\n",
    "The Artificial Intelligence (AI) Toolset is a powerful collection of tools that leverages machine learning and deep learning techniques to enhance geospatial analysis. These tools are designed to help users extract valuable insights, make predictions, and automate complex processes within geospatial datasets. Whether you're working with satellite imagery, spatial data, or sensor data, the AI Toolset empowers you to harness the power of AI in geospatial contexts. By using the AI Toolset, you can enhance your geospatial decision-making processes, improve the accuracy of your analyses, and uncover hidden patterns in your data. Whether you're in environmental monitoring, urban planning, agriculture, or disaster management, these AI-powered tools can significantly improve the efficiency and effectiveness of your work."
   ]
  },
  {
   "cell_type": "code",
   "execution_count": null,
   "metadata": {
    "vscode": {
     "languageId": "plaintext"
    }
   },
   "outputs": [],
   "source": []
  }
 ],
 "metadata": {
  "language_info": {
   "name": "python"
  }
 },
 "nbformat": 4,
 "nbformat_minor": 2
}
