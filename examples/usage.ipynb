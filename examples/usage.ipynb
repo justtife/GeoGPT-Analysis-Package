{
 "cells": [
  {
   "cell_type": "markdown",
   "metadata": {},
   "source": [
    "# **GeoGPT Package Usage**\n",
    "\n",
    "Welcome to the GeoGPT Usage Notebook! This notebook provides a comprehensive guide on how to leverage the full power of the **GeoGPT** geospatial toolset. This package offers an extensive suite of tools for geospatial analysis, hydrology, spatial processing, and more, available through a user-friendly API.\n"
   ]
  },
  {
   "cell_type": "markdown",
   "metadata": {},
   "source": [
    "### **Initializing the Package**\n",
    "---\n",
    "To begin using the package, proper initialization is required. The initialization process involves providing two key parameters:\n",
    "\n",
    "- API Key: This is required to unlock the full range of geospatial tools offered by GeoGPT. By default, when an API key is provided, you will have access to all available tools. However, if no API key is provided, you will be granted access only to a limited set of tools (free tools).\n",
    "\n",
    "- Working Directory: You may optionally specify a working directory where GeoGPT will store or process data. If not provided, GeoGPT will use the current working directory as the default."
   ]
  },
  {
   "cell_type": "markdown",
   "metadata": {},
   "source": [
    "Steps to Initialize the Package:\n",
    "\n",
    "1. The easiest way to get started is by passing both the API Key and the working directory directly into the initialization code. If the working directory is not provided, GeoGPT will use the current directory."
   ]
  },
  {
   "cell_type": "code",
   "execution_count": null,
   "metadata": {
    "vscode": {
     "languageId": "plaintext"
    }
   },
   "outputs": [],
   "source": [
    "from geogpt import Initialize\n",
    "\n",
    "api = Initialize(apiKey='your-api-key', wDir='/path/to/working/directory')"
   ]
  },
  {
   "cell_type": "markdown",
   "metadata": {},
   "source": [
    "2. Use an Environment File (Recommended)\n",
    "\n",
    "For better security and to avoid hardcoding sensitive information, it is recommended to store your API key in an environment file. This method keeps your API key safe and prevents accidental exposure.\n",
    "Create a .env file in the root directory of your project. In the file, add the following line:\n",
    "\n",
    "```bash\n",
    "GEOGPT_API_KEY=your-api-key\n",
    "```\n"
   ]
  },
  {
   "cell_type": "code",
   "execution_count": null,
   "metadata": {
    "vscode": {
     "languageId": "plaintext"
    }
   },
   "outputs": [],
   "source": [
    "from geogpt import Initialize\n",
    "\n",
    "api = Initialize()"
   ]
  },
  {
   "cell_type": "markdown",
   "metadata": {},
   "source": [
    "## **Package Toolset**\n"
   ]
  },
  {
   "cell_type": "markdown",
   "metadata": {},
   "source": [
    "### **Spatial Analysis Toolset**\n",
    "---\n",
    "The Spatial Analysis Toolset is a collection of tools designed for performing a wide range of geospatial analyses, often used in disciplines like hydrology, geography, urban planning, and environmental science. These tools allow users to process, analyze, and visualize geospatial data, facilitating informed decision-making based on geographical and environmental information.\n"
   ]
  },
  {
   "cell_type": "code",
   "execution_count": null,
   "metadata": {
    "vscode": {
     "languageId": "plaintext"
    }
   },
   "outputs": [],
   "source": []
  },
  {
   "cell_type": "markdown",
   "metadata": {},
   "source": [
    "### **Statistical Analysis Toolset**\n",
    "---\n",
    "The Statistical Toolset is a collection of tools that allows users to perform a wide range of statistical analyses on geospatial data.\n",
    "\n",
    "Whether you're working with raster data, vector data, or spatially referenced datasets, these tools enable you to derive meaningful insights through descriptive statistics, regression analysis, spatial autocorrelation, and more. The toolset is designed to enhance the analytical capabilities of geospatial projects, helping users interpret patterns and relationships within the data.\n",
    "\n",
    "By using the Statistical Toolset, you can make data-driven decisions, detect trends, and model relationships, all of which are crucial for applications in urban planning, environmental science, and resource management."
   ]
  },
  {
   "cell_type": "markdown",
   "metadata": {},
   "source": [
    "### **Conversion Toolset**\n",
    "---\n",
    "The Conversion Toolset is a suite of tools designed to facilitate the transformation of geospatial data between different formats and structures. This toolset supports both vector and raster data, allowing users to efficiently convert datasets to formats best suited for analysis, sharing, or integration with other systems.\n",
    "\n",
    "For vector data, the primary format used during conversion is GeoPackage (.gpkg), a versatile, standards-based format that supports multiple layers, attributes, and geometry types in a single file. For raster data, the standard output format is GeoTIFF (.tif), which preserves georeferencing information and is widely compatible across GIS platforms.\n",
    "\n",
    "The Conversion Toolset plays a critical role in geospatial workflows by ensuring that data is accessible, standardized, and ready for analysis or visualization. Whether you're preparing datasets for use in different software environments or consolidating them for storage, this toolset ensures seamless interoperability and data integrity.\n",
    "\n",
    "##### **Note**:\n",
    "For shapefile conversion (shapefile to geopackage), the shapefile directory must include all mandatory component files:\n",
    "- .shp - Feature geometries (required)\n",
    "- .shx - Shape index file (required)\n",
    "- .dbf - Attribute data (required)\n",
    "- .prj - Coordinate system information (recommended)\n",
    "- (Optional files: .cpg, .sbn, .sbx, etc.)\n",
    "\n"
   ]
  },
  {
   "cell_type": "code",
   "execution_count": null,
   "metadata": {
    "vscode": {
     "languageId": "plaintext"
    }
   },
   "outputs": [],
   "source": [
    "# Convert from Shapefile to Geopackage\n",
    "input_path = \"data/roads.shp\"\n",
    "output_path = \"road_path.gpkg\"\n",
    "api.conv.vector.shp_to_gpkg(input_path, output_path)\n",
    "\n",
    "# Convert from GeoJSON to Geopackage\n",
    "input_path = \"data/road.geojson\"\n",
    "# If output path is not stated, it defaults the output path to the current directory using the filename of the input path\n",
    "api.conv.vector.geojson_to_gpkg(input_path)\n",
    "\n",
    "# Convert from Geopackage to Shapefile and GeoJSON\n",
    "api.conv.vector.gpkg_to_geojson(\"road_path.gpkg\")\n",
    "api.conv.vector.gpkg_to_geojson(\"data/road.gpkg\")"
   ]
  },
  {
   "cell_type": "markdown",
   "metadata": {},
   "source": [
    "### **Artificial Intelligence Toolset**\n",
    "---\n",
    "The Artificial Intelligence (AI) Toolset is a powerful collection of tools that leverages machine learning and deep learning techniques to enhance geospatial analysis. These tools are designed to help users extract valuable insights, make predictions, and automate complex processes within geospatial datasets. Whether you're working with satellite imagery, spatial data, or sensor data, the AI Toolset empowers you to harness the power of AI in geospatial contexts. By using the AI Toolset, you can enhance your geospatial decision-making processes, improve the accuracy of your analyses, and uncover hidden patterns in your data. Whether you're in environmental monitoring, urban planning, agriculture, or disaster management, these AI-powered tools can significantly improve the efficiency and effectiveness of your work."
   ]
  },
  {
   "cell_type": "code",
   "execution_count": null,
   "metadata": {
    "vscode": {
     "languageId": "plaintext"
    }
   },
   "outputs": [],
   "source": []
  }
 ],
 "metadata": {
  "language_info": {
   "name": "python"
  }
 },
 "nbformat": 4,
 "nbformat_minor": 2
}
